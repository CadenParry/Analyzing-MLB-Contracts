{
 "cells": [
  {
   "cell_type": "code",
   "execution_count": 1587,
   "metadata": {},
   "outputs": [],
   "source": [
    "import pandas as pd \n",
    "\n",
    "contracts = pd.read_csv('contracts.csv', sep=',')\n",
    "Batting_csv = pd.read_csv('kaggle/Batting.csv', sep=',')\n",
    "Pitching_csv = pd.read_csv('kaggle/Pitching.csv', sep=',')\n",
    "ops_leader = pd.read_csv('ops_leader.csv', sep=',')\n",
    "era_leader = pd.read_csv('era_leader.csv', sep=',')\n",
    "\n"
   ]
  },
  {
   "cell_type": "code",
   "execution_count": 1588,
   "metadata": {},
   "outputs": [],
   "source": [
    "def get_ops_leader(year):\n",
    "    year_stats = ops_leader[ops_leader['Year'] == year]\n",
    "    ops_leader_value = year_stats['OPS_Leader'].values[0]\n",
    "    return ops_leader_value"
   ]
  },
  {
   "cell_type": "code",
   "execution_count": 1589,
   "metadata": {},
   "outputs": [
    {
     "data": {
      "text/plain": [
       "2.5"
      ]
     },
     "execution_count": 1589,
     "metadata": {},
     "output_type": "execute_result"
    }
   ],
   "source": [
    "def get_era_leader(year):\n",
    "    year_stats = era_leader[era_leader['Year'] == year]\n",
    "    era_leader_value = year_stats['ERA_Leader'].values[0]\n",
    "    return era_leader_value\n",
    "\n",
    "get_era_leader(2019)\n",
    "\n",
    "\n",
    "\n"
   ]
  },
  {
   "cell_type": "code",
   "execution_count": 1590,
   "metadata": {},
   "outputs": [],
   "source": [
    "average_batting = pd.read_csv('average_batting.csv', sep=',')\n",
    "average_pitching = pd.read_csv('average_pitching.csv', sep=',')\n",
    "\n",
    "def get_average_ops(year):\n",
    "    year_stats = average_batting[average_batting['Year'] == year]\n",
    "    return year_stats['OPS'].values[0]\n",
    "\n",
    "def get_average_era(year):\n",
    "    year_stats = average_pitching[average_pitching['Year'] == year]\n",
    "    return year_stats['ERA'].values[0]\n"
   ]
  },
  {
   "cell_type": "code",
   "execution_count": 1591,
   "metadata": {},
   "outputs": [],
   "source": [
    "batting_data = Batting_csv\n",
    "batting_data['OBP'] = (batting_data['H'] + batting_data['BB'] + batting_data['HBP']) / (batting_data['AB'] + batting_data['BB'] + batting_data['HBP'] + batting_data['SF'])\n",
    "batting_data['SLG'] = (batting_data['H'] - batting_data['2B'] - batting_data['3B'] - batting_data['HR'] + 2*batting_data['2B'] + 3*batting_data['3B'] + 4*batting_data['HR']) / batting_data['AB']\n",
    "batting_data['OPS'] = batting_data['OBP'] + batting_data['SLG']\n",
    "\n"
   ]
  },
  {
   "cell_type": "code",
   "execution_count": 1592,
   "metadata": {},
   "outputs": [],
   "source": [
    "players = (contracts['player'])\n",
    "\n",
    "#current_player = players[len(players)-1]\n",
    "#current_player = players[0]\n",
    "#current_player = 'Manny Ramirez'\n",
    "#current_player = 'Ken Griffey Jr'\n",
    "current_player = 'Barry Bonds'"
   ]
  },
  {
   "cell_type": "code",
   "execution_count": 1593,
   "metadata": {},
   "outputs": [
    {
     "data": {
      "text/plain": [
       "2002.0"
      ]
     },
     "execution_count": 1593,
     "metadata": {},
     "output_type": "execute_result"
    }
   ],
   "source": [
    "first_year_of_contract= contracts.loc[contracts['player'] == current_player, 'year'].values[0]\n",
    "first_year_of_contract\n",
    "\n"
   ]
  },
  {
   "cell_type": "code",
   "execution_count": 1594,
   "metadata": {},
   "outputs": [],
   "source": [
    "last_year_of_contract = first_year_of_contract + contracts.loc[contracts['player'] == current_player, 'length'].values[0]"
   ]
  },
  {
   "cell_type": "code",
   "execution_count": 1595,
   "metadata": {},
   "outputs": [
    {
     "data": {
      "text/plain": [
       "'hitter'"
      ]
     },
     "execution_count": 1595,
     "metadata": {},
     "output_type": "execute_result"
    }
   ],
   "source": [
    "row = contracts[contracts['player'] == current_player]\n",
    "\n",
    "position = ''\n",
    "if(row['pos'].item() == 'p'):\n",
    "    position = 'pitcher'\n",
    "\n",
    "if(row['pos'].item() == 'h'):\n",
    "    position = 'hitter'\n",
    "\n",
    "position"
   ]
  },
  {
   "cell_type": "code",
   "execution_count": 1596,
   "metadata": {},
   "outputs": [
    {
     "data": {
      "text/plain": [
       "'bondsba01'"
      ]
     },
     "execution_count": 1596,
     "metadata": {},
     "output_type": "execute_result"
    }
   ],
   "source": [
    "player_id = contracts.loc[contracts['player'] == current_player, 'player_id'].values[0]\n",
    "player_id"
   ]
  },
  {
   "cell_type": "code",
   "execution_count": 1597,
   "metadata": {},
   "outputs": [
    {
     "data": {
      "text/plain": [
       "array([1986, 1987, 1988, 1989, 1990, 1991, 1992, 1993, 1994, 1995, 1996,\n",
       "       1997, 1998, 1999, 2000, 2001, 2002, 2003, 2004, 2005, 2006, 2007])"
      ]
     },
     "execution_count": 1597,
     "metadata": {},
     "output_type": "execute_result"
    }
   ],
   "source": [
    "all_player_stats = batting_data[batting_data['playerID'] == player_id]\n",
    "YEAR = all_player_stats['yearID'].values\n",
    "YEAR"
   ]
  },
  {
   "cell_type": "code",
   "execution_count": 1598,
   "metadata": {},
   "outputs": [
    {
     "data": {
      "text/plain": [
       "array([0.74634041, 0.82080193, 0.8587845 , 0.77689452, 0.97034431,\n",
       "       0.92382013, 1.079561  , 1.13563694, 1.07321916, 1.00857116,\n",
       "       1.07582778, 1.03096328, 1.04691404, 1.00630233, 1.1273682 ,\n",
       "       1.37850562, 1.38070679, 1.27780886, 1.42173276, 1.07051282,\n",
       "       0.99932018, 1.04478974])"
      ]
     },
     "execution_count": 1598,
     "metadata": {},
     "output_type": "execute_result"
    }
   ],
   "source": [
    "OPS = all_player_stats['OPS'].values\n",
    "OPS"
   ]
  },
  {
   "cell_type": "code",
   "execution_count": 1599,
   "metadata": {},
   "outputs": [
    {
     "data": {
      "text/plain": [
       "array([], dtype=float64)"
      ]
     },
     "execution_count": 1599,
     "metadata": {},
     "output_type": "execute_result"
    }
   ],
   "source": [
    "pitching_data = Pitching_csv[Pitching_csv['playerID'] == player_id]\n",
    "\n",
    "ERA = pitching_data['ERA'].values\n",
    "ERA"
   ]
  },
  {
   "cell_type": "code",
   "execution_count": 1600,
   "metadata": {},
   "outputs": [
    {
     "data": {
      "image/png": "[encoded data removed]",
      "text/plain": [
       "<Figure size 640x480 with 1 Axes>"
      ]
     },
     "metadata": {},
     "output_type": "display_data"
    }
   ],
   "source": [
    "import matplotlib.pyplot as plt\n",
    "from matplotlib.ticker import FormatStrFormatter, MaxNLocator\n",
    "\n",
    "plt.xlabel('Year')\n",
    "\n",
    "if(position == 'pitcher'):\n",
    "    plt.ylabel('ERA')\n",
    "    plt.title(current_player + ' ERA over time')\n",
    "\n",
    "    # pitcher graph\n",
    "    x = YEAR\n",
    "    y = ERA\n",
    "\n",
    "    # Create a line graph for all years\n",
    "    plt.plot(x, y, color='blue')\n",
    "\n",
    "    mask = (x >= first_year_of_contract) & (x <= last_year_of_contract)\n",
    "\n",
    "    # Create a line graph for the years 2000 - 2005\n",
    "    plt.plot(x[mask], y[mask], color='red')\n",
    "\n",
    "    # Set y-axis to have fixed values\n",
    "    plt.ylim(0, 5)  # Change these values as needed\n",
    "\n",
    "    # Format y-axis to have three decimal places\n",
    "    plt.gca().yaxis.set_major_formatter(FormatStrFormatter('%.2f'))\n",
    "\n",
    "        # Ensure x-axis has integer values\n",
    "    plt.gca().xaxis.set_major_locator(MaxNLocator(integer=True))\n",
    "\n",
    "\n",
    "\n",
    "    era_average_over_span = []\n",
    "    for year in x:\n",
    "        era_average_over_span.append(get_average_era(year))\n",
    "\n",
    "    plt.plot(x, era_average_over_span, color='orange', linestyle='--')\n",
    "    # Display the graph\n",
    "    plt.show()\n",
    "if(position == 'hitter'):\n",
    "    plt.ylabel('OPS')\n",
    "    plt.title(current_player + ' OPS over time')\n",
    "\n",
    "    # hitter graph\n",
    "    x = YEAR\n",
    "    y = OPS\n",
    "\n",
    "    # Create a line graph for all years\n",
    "    plt.plot(x, y, color='blue')\n",
    "\n",
    "    # Create a line graph for the years 2000 - 2005\n",
    "    mask = (x >= first_year_of_contract) & (x <= last_year_of_contract)\n",
    "    plt.plot(x[mask], y[mask], color='red')\n",
    "\n",
    "    # # Add horizontal lines\n",
    "    # plt.axhline(1.000, color='green', linestyle='--')\n",
    "\n",
    "    # Set y-axis to have fixed values\n",
    "    plt.ylim(0, 1.5)  # Change these values as needed\n",
    "\n",
    "    # Format y-axis to have three decimal places\n",
    "    plt.gca().yaxis.set_major_formatter(FormatStrFormatter('%.3f'))\n",
    "\n",
    "    # Ensure x-axis has integer values\n",
    "    plt.gca().xaxis.set_major_locator(MaxNLocator(integer=True))\n",
    "\n",
    "\n",
    "    ops_leader_over_span = []\n",
    "    for year in x:\n",
    "        ops_leader_over_span.append(get_ops_leader(year))\n",
    "\n",
    "    plt.plot(x, ops_leader_over_span, color='green', linestyle='--')\n",
    "\n",
    "    ops_average_over_span = []\n",
    "    for year in x:\n",
    "        ops_average_over_span.append(get_average_ops(year))\n",
    "    plt.plot(x, ops_average_over_span, color='orange', linestyle='--')\n",
    "\n",
    "\n",
    "    plt.legend(['Player OPS',\n",
    "                'Span of largest contract' + ' (' + str(int(first_year_of_contract)) + ' - ' + str(int(last_year_of_contract)) + ')',\n",
    "                'League leader OPS',\n",
    "                'League average OPS',\n",
    "                ], loc='lower left')\n",
    "\n",
    "    # Display the graph\n",
    "    plt.show()"
   ]
  },
  {
   "cell_type": "markdown",
   "metadata": {},
   "source": []
  }
 ],
 "metadata": {
  "kernelspec": {
   "display_name": "base",
   "language": "python",
   "name": "python3"
  },
  "language_info": {
   "codemirror_mode": {
    "name": "ipython",
    "version": 3
   },
   "file_extension": ".py",
   "mimetype": "text/x-python",
   "name": "python",
   "nbconvert_exporter": "python",
   "pygments_lexer": "ipython3",
   "version": "3.11.5"
  }
 },
 "nbformat": 4,
 "nbformat_minor": 2
}
